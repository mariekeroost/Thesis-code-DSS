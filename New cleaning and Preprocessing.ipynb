{
 "cells": [
  {
   "cell_type": "code",
   "execution_count": 1,
   "metadata": {},
   "outputs": [],
   "source": [
    "import pandas as pd\n",
    "import numpy as np\n",
    "import matplotlib.pyplot as plt"
   ]
  },
  {
   "cell_type": "code",
   "execution_count": 2,
   "metadata": {},
   "outputs": [],
   "source": [
    "#conda install pandas==0.25.1"
   ]
  },
  {
   "cell_type": "code",
   "execution_count": 3,
   "metadata": {},
   "outputs": [],
   "source": [
    "pd.set_option('display.max_columns', None)\n",
    "pd.set_option('display.max_rows', None)"
   ]
  },
  {
   "cell_type": "code",
   "execution_count": 4,
   "metadata": {},
   "outputs": [],
   "source": [
    "def deleteindex(indexi, dataframe):\n",
    "    for it in indexi:\n",
    "        #print(it)\n",
    "        dataframe = dataframe.drop(dataframe.index[it])   \n",
    "    return dataframe"
   ]
  },
  {
   "cell_type": "markdown",
   "metadata": {},
   "source": [
    "# Loading data"
   ]
  },
  {
   "cell_type": "code",
   "execution_count": 5,
   "metadata": {},
   "outputs": [],
   "source": [
    "mood = pd.read_csv(\"mood_sampling_data.csv\")\n",
    "phone_use = pd.read_csv(\"phone_use_data.csv\")\n",
    "categories = pd.read_csv(\"app_categories.csv\")"
   ]
  },
  {
   "cell_type": "markdown",
   "metadata": {},
   "source": [
    "# Cleaning, Preprocessing, Feature Extraction"
   ]
  },
  {
   "cell_type": "code",
   "execution_count": 6,
   "metadata": {},
   "outputs": [],
   "source": [
    "#remove duplicate rows in phone use and mood dataset\n",
    "phoneuse_without_duplicates = phone_use.drop_duplicates() #dropped 19280 rows --> phoneuse_without_duplicates now has 567512 rows\n",
    "mood_without_duplicates = mood.drop_duplicates() #dropped 14 rows --> mood_without_duplicates now has 16002 rows\n",
    "#print(len(phone_use))\n",
    "#print(len(phoneuse_without_duplicates))\n",
    "#print(len(mood))\n",
    "#print(len(mood_without_duplicates))"
   ]
  },
  {
   "cell_type": "code",
   "execution_count": 7,
   "metadata": {},
   "outputs": [],
   "source": [
    "#remove expired, canceled and blocked sessions in mood data\n",
    "mood_without_expired = mood_without_duplicates.drop(mood_without_duplicates[mood_without_duplicates[\"duration\"] == \"Expired\"].index) #dropped 6282 rows --> mood_without_expired now has 9720 rows\n",
    "mood_without_blocked = mood_without_expired.drop(mood_without_expired[mood_without_expired[\"duration\"] == \"Blocked\"].index) #dropped 104 rows --> mood_without_blocked now has 9616 rows\n",
    "mood_without_cancel = mood_without_blocked.drop(mood_without_blocked[mood_without_blocked[\"duration\"] == \"Canceled\"].index) #dropped 12 rows --> mood_without_cancel now has 9604 rows\n",
    "#print(len(mood_without_blocked))"
   ]
  },
  {
   "cell_type": "code",
   "execution_count": 8,
   "metadata": {},
   "outputs": [],
   "source": [
    "#find the number of unique users in phone use data and mood data and delete the error id's\n",
    "ids_phoneuse = ((pd.unique(phoneuse_without_duplicates[\"user_id\"])))\n",
    "ids_mood = ((pd.unique(mood_without_cancel[\"user_id\"])))\n",
    "difference_id = (np.setdiff1d(ids_mood, ids_phoneuse)) #there are 23 errornous user id's in the dataset\n",
    "#print(len(difference_id))\n",
    "\n",
    "mood_without_errorids = mood_without_cancel\n",
    "#total=0\n",
    "\n",
    "#find and delete the indexes of the error user_ids\n",
    "for item in difference_id:\n",
    "    #print(item)\n",
    "    indexes = np.where(mood_without_errorids[\"user_id\"] == item)\n",
    "    #print(indexes)\\n\",\n",
    "    #in total 1084 rows are connected to the 24 errornous user id's\n",
    "    #total= total + (len(indexes[0]))\n",
    "    #print(total)\n",
    "    #print(len(indexes[0]))\n",
    "    mood_without_errorids = deleteindex(indexes, mood_without_errorids) #dropped 1084 rows --> mood_without_errorids now has 8520 rows"
   ]
  },
  {
   "cell_type": "code",
   "execution_count": 9,
   "metadata": {},
   "outputs": [],
   "source": [
    "#convert also energetic, cheerful and tired to float\n",
    "#print(new_mood[\"energetic\"])\n",
    "mood_without_errorids[\"energetic\"] = mood_without_errorids[\"energetic\"].astype(float)\n",
    "mood_without_errorids[\"cheerful\"] = mood_without_errorids[\"cheerful\"].astype(float)\n",
    "mood_without_errorids[\"tired\"] = mood_without_errorids[\"tired\"].astype(float)"
   ]
  },
  {
   "cell_type": "code",
   "execution_count": 10,
   "metadata": {},
   "outputs": [
    {
     "name": "stderr",
     "output_type": "stream",
     "text": [
      "/Users/mariekeroost/anaconda3/lib/python3.7/site-packages/dateutil/parser/_parser.py:1218: UnknownTimezoneWarning: tzname CES identified but not understood.  Pass `tzinfos` argument in order to correctly return a timezone-aware datetime.  In a future version, this will raise an exception.\n",
      "  category=UnknownTimezoneWarning)\n"
     ]
    }
   ],
   "source": [
    "#convert sent_time of mood dataset to a datetime type and split date and time into new variables\n",
    "mood_without_errorids[\"response_time\"] = mood_without_errorids[\"response_time\"].str.rstrip(\" CET\")\n",
    "mood_without_errorids[\"response_time\"] = pd.to_datetime(mood_without_errorids['response_time'])\n",
    "mood_without_errorids['response_date'] = mood_without_errorids['response_time'].dt.date\n",
    "mood_without_errorids['response_hours'] = mood_without_errorids['response_time'].dt.time\n",
    "mood_without_errorids['response_date'] = pd.to_datetime(mood_without_errorids['response_date'])\n",
    "#mood_without_nans['response_time']\""
   ]
  },
  {
   "cell_type": "code",
   "execution_count": 11,
   "metadata": {},
   "outputs": [
    {
     "name": "stderr",
     "output_type": "stream",
     "text": [
      "/Users/mariekeroost/anaconda3/lib/python3.7/site-packages/ipykernel_launcher.py:5: FutureWarning: \n",
      ".ix is deprecated. Please use\n",
      ".loc for label based indexing or\n",
      ".iloc for positional indexing\n",
      "\n",
      "See the documentation here:\n",
      "http://pandas.pydata.org/pandas-docs/stable/user_guide/indexing.html#ix-indexer-is-deprecated\n",
      "  \"\"\"\n",
      "/Users/mariekeroost/anaconda3/lib/python3.7/site-packages/pandas/core/indexing.py:961: FutureWarning: \n",
      ".ix is deprecated. Please use\n",
      ".loc for label based indexing or\n",
      ".iloc for positional indexing\n",
      "\n",
      "See the documentation here:\n",
      "http://pandas.pydata.org/pandas-docs/stable/user_guide/indexing.html#ix-indexer-is-deprecated\n",
      "  return getattr(section, self.name)[new_key]\n",
      "/Users/mariekeroost/anaconda3/lib/python3.7/site-packages/ipykernel_launcher.py:9: FutureWarning: \n",
      ".ix is deprecated. Please use\n",
      ".loc for label based indexing or\n",
      ".iloc for positional indexing\n",
      "\n",
      "See the documentation here:\n",
      "http://pandas.pydata.org/pandas-docs/stable/user_guide/indexing.html#ix-indexer-is-deprecated\n",
      "  if __name__ == '__main__':\n"
     ]
    }
   ],
   "source": [
    "#there are 14 apps that do not have a category or name in the categories dataset, so the NaN categories are categorized based on the hybrid category and NaN names are based on category names\n",
    "#print(categories.isnull().sum())\n",
    "index_NaN_category = (np.where(categories[\"category\"].isnull()))\n",
    "for item in index_NaN_category:\n",
    "    categories.ix[item, \"category\"] = categories.ix[item, \"better_category_hybrid\"]\n",
    "\n",
    "index_NaN_category_name = (np.where(categories[\"name\"].isnull()))\n",
    "for itemn in index_NaN_category_name:\n",
    "    categories.ix[itemn, \"name\"] = categories.ix[itemn, \"category\"]"
   ]
  },
  {
   "cell_type": "code",
   "execution_count": 12,
   "metadata": {},
   "outputs": [],
   "source": [
    "#change name application so merge can take place\n",
    "phoneuse_without_duplicates = phoneuse_without_duplicates.rename(columns = {\"application\" : \"app_id\"})\n",
    "\n",
    "#merge app categories together with phone use\n",
    "phone_use_categories = pd.merge(phoneuse_without_duplicates, categories, how = \"inner\", on = \"app_id\") #new dataframe has now 457182 rows\n",
    "#print(phone_use_categories.isnull().sum())"
   ]
  },
  {
   "cell_type": "code",
   "execution_count": 13,
   "metadata": {},
   "outputs": [],
   "source": [
    "#time in registration endings is not the same for phone use data and mood data\n",
    "#the last registration of a session in phone use is on 2019-03-26 15:50:47.045\n",
    "#the last registration of a mood survey sent is 2019-05-14 10:01:53\n",
    "#because last registration of phone use is on 26-03-2019 afternoon, all mood registrations tm 26-03 are included and all mood registrations afterwards are exluded\n",
    "\n",
    "#detect the index of the dates after 26-03-2019\n",
    "the_date = '2019-03-27'\n",
    "indexes_dates = np.where(mood_without_errorids[\"response_date\"] >= the_date) #138 rows are \"overtime\"\n",
    "mood_without_time_outliers = deleteindex(indexes_dates, mood_without_errorids) #drops 138 rows --> mood_without_time_outliers now has 8390 rows"
   ]
  },
  {
   "cell_type": "code",
   "execution_count": 14,
   "metadata": {},
   "outputs": [],
   "source": [
    "#Create new column with duration of application category in SECONDS in phone use data\\n\",\n",
    "phoneuse_categories_back = phone_use_categories\n",
    "phoneuse_categories_back[\"duration_app\"] = (phoneuse_categories_back[\"endTimeMillis\"] - phoneuse_categories_back[\"startTimeMillis\"])/1000"
   ]
  },
  {
   "cell_type": "code",
   "execution_count": 15,
   "metadata": {},
   "outputs": [],
   "source": [
    "#create new column with frequency used of application category in phone use data\n",
    "phoneuse_categories_back[\"frequency_app\"] = 1.0"
   ]
  },
  {
   "cell_type": "code",
   "execution_count": 16,
   "metadata": {},
   "outputs": [],
   "source": [
    "#create a new column for the new categories\n",
    "phoneuse_categories_back[\"new_category\"] = \" \""
   ]
  },
  {
   "cell_type": "code",
   "execution_count": 17,
   "metadata": {
    "scrolled": false
   },
   "outputs": [
    {
     "name": "stderr",
     "output_type": "stream",
     "text": [
      "/Users/mariekeroost/anaconda3/lib/python3.7/site-packages/ipykernel_launcher.py:3: SettingWithCopyWarning: \n",
      "A value is trying to be set on a copy of a slice from a DataFrame\n",
      "\n",
      "See the caveats in the documentation: http://pandas.pydata.org/pandas-docs/stable/user_guide/indexing.html#returning-a-view-versus-a-copy\n",
      "  This is separate from the ipykernel package so we can avoid doing imports until\n",
      "/Users/mariekeroost/anaconda3/lib/python3.7/site-packages/ipykernel_launcher.py:4: SettingWithCopyWarning: \n",
      "A value is trying to be set on a copy of a slice from a DataFrame\n",
      "\n",
      "See the caveats in the documentation: http://pandas.pydata.org/pandas-docs/stable/user_guide/indexing.html#returning-a-view-versus-a-copy\n",
      "  after removing the cwd from sys.path.\n",
      "/Users/mariekeroost/anaconda3/lib/python3.7/site-packages/ipykernel_launcher.py:5: SettingWithCopyWarning: \n",
      "A value is trying to be set on a copy of a slice from a DataFrame\n",
      "\n",
      "See the caveats in the documentation: http://pandas.pydata.org/pandas-docs/stable/user_guide/indexing.html#returning-a-view-versus-a-copy\n",
      "  \"\"\"\n",
      "/Users/mariekeroost/anaconda3/lib/python3.7/site-packages/ipykernel_launcher.py:6: SettingWithCopyWarning: \n",
      "A value is trying to be set on a copy of a slice from a DataFrame\n",
      "\n",
      "See the caveats in the documentation: http://pandas.pydata.org/pandas-docs/stable/user_guide/indexing.html#returning-a-view-versus-a-copy\n",
      "  \n",
      "/Users/mariekeroost/anaconda3/lib/python3.7/site-packages/ipykernel_launcher.py:7: SettingWithCopyWarning: \n",
      "A value is trying to be set on a copy of a slice from a DataFrame\n",
      "\n",
      "See the caveats in the documentation: http://pandas.pydata.org/pandas-docs/stable/user_guide/indexing.html#returning-a-view-versus-a-copy\n",
      "  import sys\n",
      "/Users/mariekeroost/anaconda3/lib/python3.7/site-packages/ipykernel_launcher.py:8: SettingWithCopyWarning: \n",
      "A value is trying to be set on a copy of a slice from a DataFrame\n",
      "\n",
      "See the caveats in the documentation: http://pandas.pydata.org/pandas-docs/stable/user_guide/indexing.html#returning-a-view-versus-a-copy\n",
      "  \n",
      "/Users/mariekeroost/anaconda3/lib/python3.7/site-packages/ipykernel_launcher.py:9: SettingWithCopyWarning: \n",
      "A value is trying to be set on a copy of a slice from a DataFrame\n",
      "\n",
      "See the caveats in the documentation: http://pandas.pydata.org/pandas-docs/stable/user_guide/indexing.html#returning-a-view-versus-a-copy\n",
      "  if __name__ == '__main__':\n",
      "/Users/mariekeroost/anaconda3/lib/python3.7/site-packages/ipykernel_launcher.py:10: SettingWithCopyWarning: \n",
      "A value is trying to be set on a copy of a slice from a DataFrame\n",
      "\n",
      "See the caveats in the documentation: http://pandas.pydata.org/pandas-docs/stable/user_guide/indexing.html#returning-a-view-versus-a-copy\n",
      "  # Remove the CWD from sys.path while we load stuff.\n",
      "/Users/mariekeroost/anaconda3/lib/python3.7/site-packages/ipykernel_launcher.py:14: SettingWithCopyWarning: \n",
      "A value is trying to be set on a copy of a slice from a DataFrame\n",
      "\n",
      "See the caveats in the documentation: http://pandas.pydata.org/pandas-docs/stable/user_guide/indexing.html#returning-a-view-versus-a-copy\n",
      "  \n",
      "/Users/mariekeroost/anaconda3/lib/python3.7/site-packages/ipykernel_launcher.py:15: SettingWithCopyWarning: \n",
      "A value is trying to be set on a copy of a slice from a DataFrame\n",
      "\n",
      "See the caveats in the documentation: http://pandas.pydata.org/pandas-docs/stable/user_guide/indexing.html#returning-a-view-versus-a-copy\n",
      "  from ipykernel import kernelapp as app\n",
      "/Users/mariekeroost/anaconda3/lib/python3.7/site-packages/ipykernel_launcher.py:16: SettingWithCopyWarning: \n",
      "A value is trying to be set on a copy of a slice from a DataFrame\n",
      "\n",
      "See the caveats in the documentation: http://pandas.pydata.org/pandas-docs/stable/user_guide/indexing.html#returning-a-view-versus-a-copy\n",
      "  app.launch_new_instance()\n",
      "/Users/mariekeroost/anaconda3/lib/python3.7/site-packages/ipykernel_launcher.py:17: SettingWithCopyWarning: \n",
      "A value is trying to be set on a copy of a slice from a DataFrame\n",
      "\n",
      "See the caveats in the documentation: http://pandas.pydata.org/pandas-docs/stable/user_guide/indexing.html#returning-a-view-versus-a-copy\n",
      "/Users/mariekeroost/anaconda3/lib/python3.7/site-packages/ipykernel_launcher.py:20: SettingWithCopyWarning: \n",
      "A value is trying to be set on a copy of a slice from a DataFrame\n",
      "\n",
      "See the caveats in the documentation: http://pandas.pydata.org/pandas-docs/stable/user_guide/indexing.html#returning-a-view-versus-a-copy\n",
      "/Users/mariekeroost/anaconda3/lib/python3.7/site-packages/ipykernel_launcher.py:21: SettingWithCopyWarning: \n",
      "A value is trying to be set on a copy of a slice from a DataFrame\n",
      "\n",
      "See the caveats in the documentation: http://pandas.pydata.org/pandas-docs/stable/user_guide/indexing.html#returning-a-view-versus-a-copy\n",
      "/Users/mariekeroost/anaconda3/lib/python3.7/site-packages/ipykernel_launcher.py:22: SettingWithCopyWarning: \n",
      "A value is trying to be set on a copy of a slice from a DataFrame\n",
      "\n",
      "See the caveats in the documentation: http://pandas.pydata.org/pandas-docs/stable/user_guide/indexing.html#returning-a-view-versus-a-copy\n",
      "/Users/mariekeroost/anaconda3/lib/python3.7/site-packages/ipykernel_launcher.py:23: SettingWithCopyWarning: \n",
      "A value is trying to be set on a copy of a slice from a DataFrame\n",
      "\n",
      "See the caveats in the documentation: http://pandas.pydata.org/pandas-docs/stable/user_guide/indexing.html#returning-a-view-versus-a-copy\n",
      "/Users/mariekeroost/anaconda3/lib/python3.7/site-packages/ipykernel_launcher.py:25: SettingWithCopyWarning: \n",
      "A value is trying to be set on a copy of a slice from a DataFrame\n",
      "\n",
      "See the caveats in the documentation: http://pandas.pydata.org/pandas-docs/stable/user_guide/indexing.html#returning-a-view-versus-a-copy\n",
      "/Users/mariekeroost/anaconda3/lib/python3.7/site-packages/ipykernel_launcher.py:27: SettingWithCopyWarning: \n",
      "A value is trying to be set on a copy of a slice from a DataFrame\n",
      "\n",
      "See the caveats in the documentation: http://pandas.pydata.org/pandas-docs/stable/user_guide/indexing.html#returning-a-view-versus-a-copy\n",
      "/Users/mariekeroost/anaconda3/lib/python3.7/site-packages/ipykernel_launcher.py:28: SettingWithCopyWarning: \n",
      "A value is trying to be set on a copy of a slice from a DataFrame\n",
      "\n",
      "See the caveats in the documentation: http://pandas.pydata.org/pandas-docs/stable/user_guide/indexing.html#returning-a-view-versus-a-copy\n",
      "/Users/mariekeroost/anaconda3/lib/python3.7/site-packages/ipykernel_launcher.py:29: SettingWithCopyWarning: \n",
      "A value is trying to be set on a copy of a slice from a DataFrame\n",
      "\n",
      "See the caveats in the documentation: http://pandas.pydata.org/pandas-docs/stable/user_guide/indexing.html#returning-a-view-versus-a-copy\n",
      "/Users/mariekeroost/anaconda3/lib/python3.7/site-packages/ipykernel_launcher.py:30: SettingWithCopyWarning: \n",
      "A value is trying to be set on a copy of a slice from a DataFrame\n",
      "\n",
      "See the caveats in the documentation: http://pandas.pydata.org/pandas-docs/stable/user_guide/indexing.html#returning-a-view-versus-a-copy\n",
      "/Users/mariekeroost/anaconda3/lib/python3.7/site-packages/ipykernel_launcher.py:31: SettingWithCopyWarning: \n",
      "A value is trying to be set on a copy of a slice from a DataFrame\n",
      "\n",
      "See the caveats in the documentation: http://pandas.pydata.org/pandas-docs/stable/user_guide/indexing.html#returning-a-view-versus-a-copy\n",
      "/Users/mariekeroost/anaconda3/lib/python3.7/site-packages/ipykernel_launcher.py:32: SettingWithCopyWarning: \n",
      "A value is trying to be set on a copy of a slice from a DataFrame\n",
      "\n",
      "See the caveats in the documentation: http://pandas.pydata.org/pandas-docs/stable/user_guide/indexing.html#returning-a-view-versus-a-copy\n",
      "/Users/mariekeroost/anaconda3/lib/python3.7/site-packages/ipykernel_launcher.py:33: SettingWithCopyWarning: \n",
      "A value is trying to be set on a copy of a slice from a DataFrame\n",
      "\n",
      "See the caveats in the documentation: http://pandas.pydata.org/pandas-docs/stable/user_guide/indexing.html#returning-a-view-versus-a-copy\n",
      "/Users/mariekeroost/anaconda3/lib/python3.7/site-packages/ipykernel_launcher.py:34: SettingWithCopyWarning: \n",
      "A value is trying to be set on a copy of a slice from a DataFrame\n",
      "\n",
      "See the caveats in the documentation: http://pandas.pydata.org/pandas-docs/stable/user_guide/indexing.html#returning-a-view-versus-a-copy\n",
      "/Users/mariekeroost/anaconda3/lib/python3.7/site-packages/ipykernel_launcher.py:35: SettingWithCopyWarning: \n",
      "A value is trying to be set on a copy of a slice from a DataFrame\n",
      "\n",
      "See the caveats in the documentation: http://pandas.pydata.org/pandas-docs/stable/user_guide/indexing.html#returning-a-view-versus-a-copy\n",
      "/Users/mariekeroost/anaconda3/lib/python3.7/site-packages/ipykernel_launcher.py:36: SettingWithCopyWarning: \n",
      "A value is trying to be set on a copy of a slice from a DataFrame\n",
      "\n",
      "See the caveats in the documentation: http://pandas.pydata.org/pandas-docs/stable/user_guide/indexing.html#returning-a-view-versus-a-copy\n",
      "/Users/mariekeroost/anaconda3/lib/python3.7/site-packages/ipykernel_launcher.py:37: SettingWithCopyWarning: \n",
      "A value is trying to be set on a copy of a slice from a DataFrame\n",
      "\n",
      "See the caveats in the documentation: http://pandas.pydata.org/pandas-docs/stable/user_guide/indexing.html#returning-a-view-versus-a-copy\n",
      "/Users/mariekeroost/anaconda3/lib/python3.7/site-packages/ipykernel_launcher.py:38: SettingWithCopyWarning: \n",
      "A value is trying to be set on a copy of a slice from a DataFrame\n",
      "\n",
      "See the caveats in the documentation: http://pandas.pydata.org/pandas-docs/stable/user_guide/indexing.html#returning-a-view-versus-a-copy\n",
      "/Users/mariekeroost/anaconda3/lib/python3.7/site-packages/ipykernel_launcher.py:39: SettingWithCopyWarning: \n",
      "A value is trying to be set on a copy of a slice from a DataFrame\n",
      "\n",
      "See the caveats in the documentation: http://pandas.pydata.org/pandas-docs/stable/user_guide/indexing.html#returning-a-view-versus-a-copy\n",
      "/Users/mariekeroost/anaconda3/lib/python3.7/site-packages/ipykernel_launcher.py:40: SettingWithCopyWarning: \n",
      "A value is trying to be set on a copy of a slice from a DataFrame\n",
      "\n",
      "See the caveats in the documentation: http://pandas.pydata.org/pandas-docs/stable/user_guide/indexing.html#returning-a-view-versus-a-copy\n",
      "/Users/mariekeroost/anaconda3/lib/python3.7/site-packages/ipykernel_launcher.py:42: SettingWithCopyWarning: \n",
      "A value is trying to be set on a copy of a slice from a DataFrame\n",
      "\n",
      "See the caveats in the documentation: http://pandas.pydata.org/pandas-docs/stable/user_guide/indexing.html#returning-a-view-versus-a-copy\n",
      "/Users/mariekeroost/anaconda3/lib/python3.7/site-packages/ipykernel_launcher.py:43: SettingWithCopyWarning: \n",
      "A value is trying to be set on a copy of a slice from a DataFrame\n",
      "\n",
      "See the caveats in the documentation: http://pandas.pydata.org/pandas-docs/stable/user_guide/indexing.html#returning-a-view-versus-a-copy\n",
      "/Users/mariekeroost/anaconda3/lib/python3.7/site-packages/ipykernel_launcher.py:44: SettingWithCopyWarning: \n",
      "A value is trying to be set on a copy of a slice from a DataFrame\n",
      "\n",
      "See the caveats in the documentation: http://pandas.pydata.org/pandas-docs/stable/user_guide/indexing.html#returning-a-view-versus-a-copy\n",
      "/Users/mariekeroost/anaconda3/lib/python3.7/site-packages/ipykernel_launcher.py:45: SettingWithCopyWarning: \n",
      "A value is trying to be set on a copy of a slice from a DataFrame\n",
      "\n",
      "See the caveats in the documentation: http://pandas.pydata.org/pandas-docs/stable/user_guide/indexing.html#returning-a-view-versus-a-copy\n",
      "/Users/mariekeroost/anaconda3/lib/python3.7/site-packages/ipykernel_launcher.py:46: SettingWithCopyWarning: \n",
      "A value is trying to be set on a copy of a slice from a DataFrame\n",
      "\n",
      "See the caveats in the documentation: http://pandas.pydata.org/pandas-docs/stable/user_guide/indexing.html#returning-a-view-versus-a-copy\n",
      "/Users/mariekeroost/anaconda3/lib/python3.7/site-packages/ipykernel_launcher.py:47: SettingWithCopyWarning: \n",
      "A value is trying to be set on a copy of a slice from a DataFrame\n",
      "\n",
      "See the caveats in the documentation: http://pandas.pydata.org/pandas-docs/stable/user_guide/indexing.html#returning-a-view-versus-a-copy\n",
      "/Users/mariekeroost/anaconda3/lib/python3.7/site-packages/ipykernel_launcher.py:48: SettingWithCopyWarning: \n",
      "A value is trying to be set on a copy of a slice from a DataFrame\n",
      "\n",
      "See the caveats in the documentation: http://pandas.pydata.org/pandas-docs/stable/user_guide/indexing.html#returning-a-view-versus-a-copy\n",
      "/Users/mariekeroost/anaconda3/lib/python3.7/site-packages/ipykernel_launcher.py:49: SettingWithCopyWarning: \n",
      "A value is trying to be set on a copy of a slice from a DataFrame\n",
      "\n",
      "See the caveats in the documentation: http://pandas.pydata.org/pandas-docs/stable/user_guide/indexing.html#returning-a-view-versus-a-copy\n",
      "/Users/mariekeroost/anaconda3/lib/python3.7/site-packages/ipykernel_launcher.py:50: SettingWithCopyWarning: \n",
      "A value is trying to be set on a copy of a slice from a DataFrame\n",
      "\n",
      "See the caveats in the documentation: http://pandas.pydata.org/pandas-docs/stable/user_guide/indexing.html#returning-a-view-versus-a-copy\n",
      "/Users/mariekeroost/anaconda3/lib/python3.7/site-packages/ipykernel_launcher.py:51: SettingWithCopyWarning: \n",
      "A value is trying to be set on a copy of a slice from a DataFrame\n",
      "\n",
      "See the caveats in the documentation: http://pandas.pydata.org/pandas-docs/stable/user_guide/indexing.html#returning-a-view-versus-a-copy\n",
      "/Users/mariekeroost/anaconda3/lib/python3.7/site-packages/ipykernel_launcher.py:52: SettingWithCopyWarning: \n",
      "A value is trying to be set on a copy of a slice from a DataFrame\n",
      "\n",
      "See the caveats in the documentation: http://pandas.pydata.org/pandas-docs/stable/user_guide/indexing.html#returning-a-view-versus-a-copy\n",
      "/Users/mariekeroost/anaconda3/lib/python3.7/site-packages/ipykernel_launcher.py:53: SettingWithCopyWarning: \n",
      "A value is trying to be set on a copy of a slice from a DataFrame\n",
      "\n",
      "See the caveats in the documentation: http://pandas.pydata.org/pandas-docs/stable/user_guide/indexing.html#returning-a-view-versus-a-copy\n",
      "/Users/mariekeroost/anaconda3/lib/python3.7/site-packages/ipykernel_launcher.py:55: SettingWithCopyWarning: \n",
      "A value is trying to be set on a copy of a slice from a DataFrame\n",
      "\n",
      "See the caveats in the documentation: http://pandas.pydata.org/pandas-docs/stable/user_guide/indexing.html#returning-a-view-versus-a-copy\n",
      "/Users/mariekeroost/anaconda3/lib/python3.7/site-packages/ipykernel_launcher.py:56: SettingWithCopyWarning: \n",
      "A value is trying to be set on a copy of a slice from a DataFrame\n",
      "\n",
      "See the caveats in the documentation: http://pandas.pydata.org/pandas-docs/stable/user_guide/indexing.html#returning-a-view-versus-a-copy\n",
      "/Users/mariekeroost/anaconda3/lib/python3.7/site-packages/ipykernel_launcher.py:58: SettingWithCopyWarning: \n",
      "A value is trying to be set on a copy of a slice from a DataFrame\n",
      "\n",
      "See the caveats in the documentation: http://pandas.pydata.org/pandas-docs/stable/user_guide/indexing.html#returning-a-view-versus-a-copy\n",
      "/Users/mariekeroost/anaconda3/lib/python3.7/site-packages/ipykernel_launcher.py:59: SettingWithCopyWarning: \n",
      "A value is trying to be set on a copy of a slice from a DataFrame\n",
      "\n",
      "See the caveats in the documentation: http://pandas.pydata.org/pandas-docs/stable/user_guide/indexing.html#returning-a-view-versus-a-copy\n",
      "/Users/mariekeroost/anaconda3/lib/python3.7/site-packages/ipykernel_launcher.py:61: SettingWithCopyWarning: \n",
      "A value is trying to be set on a copy of a slice from a DataFrame\n",
      "\n",
      "See the caveats in the documentation: http://pandas.pydata.org/pandas-docs/stable/user_guide/indexing.html#returning-a-view-versus-a-copy\n",
      "/Users/mariekeroost/anaconda3/lib/python3.7/site-packages/ipykernel_launcher.py:62: SettingWithCopyWarning: \n",
      "A value is trying to be set on a copy of a slice from a DataFrame\n",
      "\n",
      "See the caveats in the documentation: http://pandas.pydata.org/pandas-docs/stable/user_guide/indexing.html#returning-a-view-versus-a-copy\n",
      "/Users/mariekeroost/anaconda3/lib/python3.7/site-packages/ipykernel_launcher.py:63: SettingWithCopyWarning: \n",
      "A value is trying to be set on a copy of a slice from a DataFrame\n",
      "\n",
      "See the caveats in the documentation: http://pandas.pydata.org/pandas-docs/stable/user_guide/indexing.html#returning-a-view-versus-a-copy\n",
      "/Users/mariekeroost/anaconda3/lib/python3.7/site-packages/ipykernel_launcher.py:64: SettingWithCopyWarning: \n",
      "A value is trying to be set on a copy of a slice from a DataFrame\n",
      "\n",
      "See the caveats in the documentation: http://pandas.pydata.org/pandas-docs/stable/user_guide/indexing.html#returning-a-view-versus-a-copy\n",
      "/Users/mariekeroost/anaconda3/lib/python3.7/site-packages/ipykernel_launcher.py:66: SettingWithCopyWarning: \n",
      "A value is trying to be set on a copy of a slice from a DataFrame\n",
      "\n",
      "See the caveats in the documentation: http://pandas.pydata.org/pandas-docs/stable/user_guide/indexing.html#returning-a-view-versus-a-copy\n",
      "/Users/mariekeroost/anaconda3/lib/python3.7/site-packages/ipykernel_launcher.py:67: SettingWithCopyWarning: \n",
      "A value is trying to be set on a copy of a slice from a DataFrame\n",
      "\n",
      "See the caveats in the documentation: http://pandas.pydata.org/pandas-docs/stable/user_guide/indexing.html#returning-a-view-versus-a-copy\n",
      "/Users/mariekeroost/anaconda3/lib/python3.7/site-packages/ipykernel_launcher.py:70: SettingWithCopyWarning: \n",
      "A value is trying to be set on a copy of a slice from a DataFrame\n",
      "\n",
      "See the caveats in the documentation: http://pandas.pydata.org/pandas-docs/stable/user_guide/indexing.html#returning-a-view-versus-a-copy\n"
     ]
    }
   ],
   "source": [
    "#add the new categories to the new_category column based on hybrid and normal category. \n",
    "#first the 7 most used apps (>10.000) get an own category\n",
    "phoneuse_categories_back.new_category[phoneuse_categories_back.better_category_hybrid == \"Facebook Messenger\"] = \"Facebook_Messenger\"\n",
    "phoneuse_categories_back.new_category[phoneuse_categories_back.better_category_hybrid == \"Spotify\"] = \"Spotify\"\n",
    "phoneuse_categories_back.new_category[phoneuse_categories_back.better_category_hybrid == \"WhatsApp Messenger\"] = \"Whatsapp_Messenger\"\n",
    "phoneuse_categories_back.new_category[phoneuse_categories_back.better_category_hybrid == \"Instagram\"] = \"Instagram\"\n",
    "phoneuse_categories_back.new_category[phoneuse_categories_back.better_category_hybrid == \"Snapchat\"] = \"Snapchat\"\n",
    "phoneuse_categories_back.new_category[phoneuse_categories_back.better_category_hybrid == \"Facebook\"] = \"Facebook\"\n",
    "phoneuse_categories_back.new_category[phoneuse_categories_back.better_category_hybrid == \"Google Chrome\"] = \"Google_Chrome\"\n",
    "phoneuse_categories_back.new_category[phoneuse_categories_back.better_category_hybrid == \"YouTube\"] = \"Youtube\"\n",
    "\n",
    "#all other 'normal' categories are merged together in 10 new categories\n",
    "#first the categories that exist partly out of the 7 most used apps\n",
    "phoneuse_categories_back.new_category[(phoneuse_categories_back.category == \"Video Players & Editors\") & (phoneuse_categories_back.better_category_hybrid != \"YouTube\")] = \"Entertainment\"\n",
    "phoneuse_categories_back.new_category[(phoneuse_categories_back.category == \"Music & Audio\") & (phoneuse_categories_back.better_category_hybrid != \"Spotify\")] = \"Entertainment\"\n",
    "phoneuse_categories_back.new_category[(phoneuse_categories_back.category == \"Social\") & (phoneuse_categories_back.better_category_hybrid != \"Instagram\") & (phoneuse_categories_back.better_category_hybrid != \"Snapchat\") & (phoneuse_categories_back.better_category_hybrid != \"Facebook\")] = \"Social\"\n",
    "phoneuse_categories_back.new_category[(phoneuse_categories_back.category == \"Communication\") & (phoneuse_categories_back.better_category_hybrid != \"WhatsApp Messenger\") & (phoneuse_categories_back.better_category_hybrid != \"Google Chrome\") & (phoneuse_categories_back.better_category_hybrid != \"Facebook Messenger\")] = \"Communication\"\n",
    "\n",
    "#all the other categories are merged together\n",
    "phoneuse_categories_back.new_category[phoneuse_categories_back.category == \"Books & Reference\"] = \"Entertainment\"\n",
    "phoneuse_categories_back.new_category[phoneuse_categories_back.category == \"Photography\"] = \"Entertainment\"\n",
    "phoneuse_categories_back.new_category[phoneuse_categories_back.category == \"Entertainment\"] = \"Entertainment\"\n",
    "phoneuse_categories_back.new_category[phoneuse_categories_back.category == \"Art & Design\"] = \"Entertainment\"\n",
    "\n",
    "phoneuse_categories_back.new_category[phoneuse_categories_back.category == \"Finance\"] = \"Finance\"\n",
    "\n",
    "phoneuse_categories_back.new_category[phoneuse_categories_back.category == \"Adventure\"] = \"Games\"\n",
    "phoneuse_categories_back.new_category[phoneuse_categories_back.category == \"Racing, Action & Adventure\"] = \"Games\"\n",
    "phoneuse_categories_back.new_category[phoneuse_categories_back.category == \"Trivia\"] = \"Games\"\n",
    "phoneuse_categories_back.new_category[phoneuse_categories_back.category == \"Card\"] = \"Games\"\n",
    "phoneuse_categories_back.new_category[phoneuse_categories_back.category == \"Puzzle\"] = \"Games\"\n",
    "phoneuse_categories_back.new_category[phoneuse_categories_back.category == \"Board\"] = \"Games\"\n",
    "phoneuse_categories_back.new_category[phoneuse_categories_back.category == \"Racing\"] = \"Games\"\n",
    "phoneuse_categories_back.new_category[phoneuse_categories_back.category == \"Simulation\"] = \"Games\"\n",
    "phoneuse_categories_back.new_category[phoneuse_categories_back.category == \"Arcade\"] = \"Games\"\n",
    "phoneuse_categories_back.new_category[phoneuse_categories_back.category == \"Action\"] = \"Games\"\n",
    "phoneuse_categories_back.new_category[phoneuse_categories_back.category == \"Casino\"] = \"Games\"\n",
    "phoneuse_categories_back.new_category[phoneuse_categories_back.category == \"Casual\"] = \"Games\"\n",
    "phoneuse_categories_back.new_category[phoneuse_categories_back.category == \"Word\"] = \"Games\"\n",
    "phoneuse_categories_back.new_category[phoneuse_categories_back.category == \"Strategy\"] = \"Games\"\n",
    "\n",
    "phoneuse_categories_back.new_category[phoneuse_categories_back.category == \"News & Magazines\"] = \"Lifestyle\"#voornamelijk NOS of teletekst \n",
    "phoneuse_categories_back.new_category[phoneuse_categories_back.category == \"Travel & Local\"] = \"Lifestyle\"\n",
    "phoneuse_categories_back.new_category[phoneuse_categories_back.category == \"Lifestyle\"] = \"Lifestyle\"\n",
    "phoneuse_categories_back.new_category[phoneuse_categories_back.category == \"Weather\"] = \"Lifestyle\"\n",
    "phoneuse_categories_back.new_category[phoneuse_categories_back.category == \"Dating\"] = \"Lifestyle\"\n",
    "phoneuse_categories_back.new_category[phoneuse_categories_back.category == \"Sports\"] = \"Lifestyle\"\n",
    "phoneuse_categories_back.new_category[phoneuse_categories_back.category == \"Health & Fitness\"] = \"Lifestyle\"\n",
    "phoneuse_categories_back.new_category[phoneuse_categories_back.category == \"House & Home\"] = \"Lifestyle\"\n",
    "phoneuse_categories_back.new_category[phoneuse_categories_back.category == \"Education\"] = \"Lifestyle\"\n",
    "phoneuse_categories_back.new_category[phoneuse_categories_back.category == \"Medical\"] = \"Lifestyle\"\n",
    "phoneuse_categories_back.new_category[phoneuse_categories_back.category == \"Food & Drink\"] = \"Lifestyle\"\n",
    "phoneuse_categories_back.new_category[phoneuse_categories_back.category == \"Maps & Navigation\"] = \"Lifestyle\"\n",
    "\n",
    "phoneuse_categories_back.new_category[phoneuse_categories_back.category == \"Background Process\"] = \"Background_Process\"\n",
    "phoneuse_categories_back.new_category[phoneuse_categories_back.category == \"Security\"] = \"Background_Process\"\n",
    "\n",
    "phoneuse_categories_back.new_category[phoneuse_categories_back.category == \"Auto & Vehicles\"] = \"Online_Shopping\"\n",
    "phoneuse_categories_back.new_category[phoneuse_categories_back.category == \"Shopping\"] = \"Online_Shopping\"\n",
    "\n",
    "phoneuse_categories_back.new_category[phoneuse_categories_back.category == \"Productivity\"] = \"Productivity\"\n",
    "phoneuse_categories_back.new_category[phoneuse_categories_back.category == \"Personalization\"] = \"Productivity\"\n",
    "phoneuse_categories_back.new_category[phoneuse_categories_back.category == \"Document_Editor\"] = \"Productivity\"\n",
    "phoneuse_categories_back.new_category[phoneuse_categories_back.category == \"Business\"] = \"Productivity\"\n",
    "\n",
    "phoneuse_categories_back.new_category[phoneuse_categories_back.category == \"Tools\"] = \"Utility\"\n",
    "phoneuse_categories_back.new_category[phoneuse_categories_back.category == \"Phone_Tools\"] = \"Utility\"\n",
    "\n",
    "#all the registrations that are in the normal 'other' category, is the same app, which is a news app. therefore other will get lifestyle category\n",
    "phoneuse_categories_back.new_category[phoneuse_categories_back.category == \"Others\"] = \"Lifestyle\"\n"
   ]
  },
  {
   "cell_type": "markdown",
   "metadata": {},
   "source": [
    "# Figures of cleaning and preprocessing part"
   ]
  },
  {
   "cell_type": "code",
   "execution_count": 18,
   "metadata": {},
   "outputs": [
    {
     "data": {
      "text/plain": [
       "Text(0, 0.5, 'Total frequency')"
      ]
     },
     "execution_count": 18,
     "metadata": {},
     "output_type": "execute_result"
    },
    {
     "data": {
      "image/png": "[encoded data removed]",
      "text/plain": [
       "<Figure size 432x288 with 1 Axes>"
      ]
     },
     "metadata": {
      "needs_background": "light"
     },
     "output_type": "display_data"
    }
   ],
   "source": [
    "df = (phoneuse_categories_back[\"new_category\"].value_counts())\n",
    "ax = df.plot.bar(title = \"Frequency distribution new categories\")\n",
    "ax.set_xlabel(\"New categories\")\n",
    "ax.set_ylabel(\"Total frequency\")\n"
   ]
  },
  {
   "cell_type": "code",
   "execution_count": 19,
   "metadata": {},
   "outputs": [
    {
     "data": {
      "text/plain": [
       "Text(0, 0.5, 'Total frequency')"
      ]
     },
     "execution_count": 19,
     "metadata": {},
     "output_type": "execute_result"
    },
    {
     "data": {
      "image/png": "[encoded data removed]",
      "text/plain": [
       "<Figure size 432x288 with 1 Axes>"
      ]
     },
     "metadata": {
      "needs_background": "light"
     },
     "output_type": "display_data"
    }
   ],
   "source": [
    "dff = (phoneuse_categories_back[\"app_id\"].value_counts()[0:40])\n",
    "axx = dff.plot.bar(title = \"Frequency distribution 40 most used applications\")\n",
    "axx.set_xlabel(\"Applications\")\n",
    "axx.set_ylabel(\"Total frequency\")\n"
   ]
  },
  {
   "cell_type": "code",
   "execution_count": 20,
   "metadata": {},
   "outputs": [],
   "source": [
    "#clean up the mood dataset, so all columns that are not needed are deleted for better view\n",
    "mood_cleaned = mood_without_time_outliers\n",
    "del mood_cleaned[\"social_private\"]\n",
    "del mood_cleaned[\"social_public\"]\n",
    "del mood_cleaned[\"social_partener\"]\n",
    "del mood_cleaned[\"social_friend\"]\n",
    "del mood_cleaned[\"social_family\"]\n",
    "del mood_cleaned[\"social_coworkers\"]\n",
    "del mood_cleaned[\"duration\"]\n",
    "del mood_cleaned[\"day_time_window\"]\n",
    "del mood_cleaned[\"activities_work\"]\n",
    "del mood_cleaned[\"activities_social\"]\n",
    "del mood_cleaned[\"activities_sports\"]\n",
    "del mood_cleaned[\"activities_leisure\"]\n",
    "del mood_cleaned[\"activities_commute\"]\n",
    "del mood_cleaned[\"activities_sleep\"]\n",
    "del mood_cleaned[\"activities_chore\"]\n",
    "del mood_cleaned[\"inferior\"]\n",
    "del mood_cleaned[\"activity\"]\n",
    "del mood_cleaned[\"social\"]\n",
    "del mood_cleaned[\"enjoy\"]\n",
    "del mood_cleaned[\"activities_study\"]\n",
    "del mood_cleaned[\"activities_class\"]\n",
    "del mood_cleaned[\"response_time\"]\n",
    "del mood_cleaned[\"sent_time\"]\n",
    "del mood_cleaned[\"response_date\"]\n",
    "del mood_cleaned[\"response_hours\"]"
   ]
  },
  {
   "cell_type": "code",
   "execution_count": 21,
   "metadata": {},
   "outputs": [],
   "source": [
    "#clean up the phonse use dataset, so all columns that are not needed are deleted for better view\n",
    "phone_use_cat_cleaned = phoneuse_categories_back\n",
    "del phone_use_cat_cleaned[\"battery\"]\n",
    "del phone_use_cat_cleaned[\"notification\"]\n",
    "del phone_use_cat_cleaned[\"count\"]\n",
    "del phone_use_cat_cleaned[\"startTimeMillis\"]\n",
    "del phone_use_cat_cleaned[\"endTime\"]\n",
    "del phone_use_cat_cleaned[\"endTimeMillis\"]\n",
    "del phone_use_cat_cleaned[\"startTime\"]\n",
    "del phone_use_cat_cleaned[\"session\"]\n",
    "#del phone_use_cat_cleaned[\"end_date\"]\n",
    "#del phone_use_cat_cleaned[\"end_hours\"]\n",
    "del phone_use_cat_cleaned[\"better_category_hybrid\"]\n",
    "del phone_use_cat_cleaned[\"better_category\"]\n"
   ]
  },
  {
   "cell_type": "code",
   "execution_count": 22,
   "metadata": {},
   "outputs": [],
   "source": [
    "#save as new datasets\n",
    "mood_cleaned.to_csv(\"cleaned_mood.csv\")\n",
    "phone_use_cat_cleaned.to_csv(\"cleaned_phoneuse_categories.csv\")"
   ]
  }
 ],
 "metadata": {
  "kernelspec": {
   "display_name": "Python 3",
   "language": "python",
   "name": "python3"
  },
  "language_info": {
   "codemirror_mode": {
    "name": "ipython",
    "version": 3
   },
   "file_extension": ".py",
   "mimetype": "text/x-python",
   "name": "python",
   "nbconvert_exporter": "python",
   "pygments_lexer": "ipython3",
   "version": "3.7.1"
  }
 },
 "nbformat": 4,
 "nbformat_minor": 4
}
